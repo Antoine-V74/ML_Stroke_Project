{
 "cells": [
  {
   "cell_type": "code",
   "execution_count": 1,
   "id": "59a6c88c-7529-49d0-a626-c7be7ea36ebc",
   "metadata": {},
   "outputs": [],
   "source": [
    "import pandas as pd\n",
    "import numpy as np\n",
    "import os"
   ]
  },
  {
   "cell_type": "code",
   "execution_count": 2,
   "id": "bc9b6a92-eee6-4f7e-a73d-46fa39d23c35",
   "metadata": {},
   "outputs": [
    {
     "data": {
      "text/html": [
       "<div>\n",
       "<style scoped>\n",
       "    .dataframe tbody tr th:only-of-type {\n",
       "        vertical-align: middle;\n",
       "    }\n",
       "\n",
       "    .dataframe tbody tr th {\n",
       "        vertical-align: top;\n",
       "    }\n",
       "\n",
       "    .dataframe thead th {\n",
       "        text-align: right;\n",
       "    }\n",
       "</style>\n",
       "<table border=\"1\" class=\"dataframe\">\n",
       "  <thead>\n",
       "    <tr style=\"text-align: right;\">\n",
       "      <th></th>\n",
       "      <th>Labelname</th>\n",
       "      <th>RegionLongName</th>\n",
       "      <th>LR</th>\n",
       "      <th>Cortex</th>\n",
       "      <th>Cortex_ID</th>\n",
       "    </tr>\n",
       "  </thead>\n",
       "  <tbody>\n",
       "    <tr>\n",
       "      <th>0</th>\n",
       "      <td>L_V1</td>\n",
       "      <td>Primary_Visual_Cortex_L</td>\n",
       "      <td>L</td>\n",
       "      <td>Primary_Visual</td>\n",
       "      <td>1</td>\n",
       "    </tr>\n",
       "    <tr>\n",
       "      <th>1</th>\n",
       "      <td>L_MST</td>\n",
       "      <td>Medial_Superior_Temporal_Area_L</td>\n",
       "      <td>L</td>\n",
       "      <td>MT+_Complex_and_Neighboring_Visual_Areas</td>\n",
       "      <td>5</td>\n",
       "    </tr>\n",
       "    <tr>\n",
       "      <th>2</th>\n",
       "      <td>L_V6</td>\n",
       "      <td>Sixth_Visual_Area_L</td>\n",
       "      <td>L</td>\n",
       "      <td>Dorsal_Stream_Visual</td>\n",
       "      <td>3</td>\n",
       "    </tr>\n",
       "    <tr>\n",
       "      <th>3</th>\n",
       "      <td>L_V2</td>\n",
       "      <td>Second_Visual_Area_L</td>\n",
       "      <td>L</td>\n",
       "      <td>Early_Visual</td>\n",
       "      <td>2</td>\n",
       "    </tr>\n",
       "    <tr>\n",
       "      <th>4</th>\n",
       "      <td>L_V3</td>\n",
       "      <td>Third_Visual_Area_L</td>\n",
       "      <td>L</td>\n",
       "      <td>Early_Visual</td>\n",
       "      <td>2</td>\n",
       "    </tr>\n",
       "  </tbody>\n",
       "</table>\n",
       "</div>"
      ],
      "text/plain": [
       "  Labelname                   RegionLongName LR  \\\n",
       "0      L_V1          Primary_Visual_Cortex_L  L   \n",
       "1     L_MST  Medial_Superior_Temporal_Area_L  L   \n",
       "2      L_V6              Sixth_Visual_Area_L  L   \n",
       "3      L_V2             Second_Visual_Area_L  L   \n",
       "4      L_V3              Third_Visual_Area_L  L   \n",
       "\n",
       "                                     Cortex  Cortex_ID  \n",
       "0                            Primary_Visual          1  \n",
       "1  MT+_Complex_and_Neighboring_Visual_Areas          5  \n",
       "2                      Dorsal_Stream_Visual          3  \n",
       "3                              Early_Visual          2  \n",
       "4                              Early_Visual          2  "
      ]
     },
     "execution_count": 2,
     "metadata": {},
     "output_type": "execute_result"
    }
   ],
   "source": [
    "connectomes_mapping = pd.read_csv(\"./data/HCP-MMP1_RegionsCorticesList.csv\")\n",
    "connectomes_mapping = connectomes_mapping.drop(columns=[\"# ID\", \"Lobe\"])\n",
    "connectomes_mapping.head()"
   ]
  },
  {
   "cell_type": "code",
   "execution_count": 3,
   "id": "e79bcaa7-8d41-4e59-b2cb-e627ae9ddeef",
   "metadata": {},
   "outputs": [],
   "source": [
    "def symmetrize_matrix(matrix):\n",
    "\n",
    "    return (matrix + matrix.T) / 2"
   ]
  },
  {
   "cell_type": "code",
   "execution_count": 4,
   "id": "042181eb",
   "metadata": {},
   "outputs": [],
   "source": [
    "def reduce_connectome(connectome_matrix, connectome_mapping):\n",
    "    assert connectome_matrix.shape[0] == connectome_matrix.shape[1]\n",
    "    assert connectome_matrix.shape[0] == len(connectome_mapping)\n",
    "\n",
    "    if isinstance(connectome_matrix, pd.DataFrame):\n",
    "        connectome_matrix = connectome_matrix.values\n",
    "    \n",
    "    connectome_matrix = symmetrize_matrix(connectome_matrix)\n",
    "\n",
    "    cortex_ids = connectome_mapping[\"Cortex_ID\"].values\n",
    "\n",
    "    reduced_matrix = np.zeros((27, 27))\n",
    "\n",
    "    for i in range(1, 28): \n",
    "        for j in range(1, 28):  \n",
    "            rows = np.where(cortex_ids == i)[0]\n",
    "            cols = np.where(cortex_ids == j)[0]\n",
    "\n",
    "            submatrix = connectome_matrix[np.ix_(rows, cols)]\n",
    "\n",
    "            if submatrix.size > 0:  \n",
    "                reduced_matrix[i - 1, j - 1] = np.mean(submatrix) \n",
    "\n",
    "    for i in range(27):\n",
    "        for j in range(i + 1, 27):  \n",
    "            reduced_matrix[j, i] = 0 \n",
    "\n",
    "    return pd.DataFrame(\n",
    "        reduced_matrix, \n",
    "        columns=[f\"Cortex_{i}\" for i in range(1, 28)], \n",
    "        index=[f\"Cortex_{i}\" for i in range(1, 28)]\n",
    "    )\n"
   ]
  },
  {
   "cell_type": "code",
   "execution_count": 8,
   "id": "f6dcec7e-c692-4a96-9fc0-896a7f07f65e",
   "metadata": {},
   "outputs": [],
   "source": [
    "import zipfile\n",
    "zip_file_path = \"./data/Connectomes.zip\"\n",
    "\n",
    "extract_to = \"./data\"\n",
    "\n",
    "os.makedirs(extract_to, exist_ok=True)\n",
    "\n",
    "with zipfile.ZipFile(zip_file_path, 'r') as zip_ref:\n",
    "    zip_ref.extractall(extract_to)\n"
   ]
  },
  {
   "cell_type": "code",
   "execution_count": 6,
   "id": "605413ae-1607-44a2-a4a8-b2a5b63017ba",
   "metadata": {},
   "outputs": [],
   "source": [
    "def process_connectomes_in_directory(connectome_dir, connectome_mapping, output_dir):\n",
    "\n",
    "    os.makedirs(output_dir, exist_ok=True)\n",
    "    \n",
    "    for file in os.listdir(connectome_dir):\n",
    "        if file.endswith(\".csv\"):  \n",
    "            file_path = os.path.join(connectome_dir, file)\n",
    "            \n",
    "            connectome_matrix = pd.read_csv(file_path, header=None)\n",
    "\n",
    "            reduced_matrix = reduce_connectome(connectome_matrix, connectome_mapping)\n",
    "\n",
    "            patient_id = file.split(\"-\")[1].split(\"s\")[1]\n",
    "\n",
    "            output_file = os.path.join(output_dir, f\"{patient_id}_reduced.csv\")\n",
    "\n",
    "            reduced_matrix.to_csv(output_file, index=True)\n",
    "\n"
   ]
  },
  {
   "cell_type": "code",
   "execution_count": 7,
   "id": "a19247f7-28f6-422a-87ed-bb9d2264939d",
   "metadata": {},
   "outputs": [
    {
     "name": "stdout",
     "output_type": "stream",
     "text": [
      "./Connectomes/ses-T1 done -> ./data/Reduced_Connectomes/ses-T1\n",
      "./Connectomes/ses-T2 done -> ./data/Reduced_Connectomes/ses-T2\n",
      "./Connectomes/ses-T3 done -> ./data/Reduced_Connectomes/ses-T3\n",
      "./Connectomes/ses-T4 done -> ./data/Reduced_Connectomes/ses-T4\n"
     ]
    }
   ],
   "source": [
    "connectome_directories = [\n",
    "    \"./Connectomes/ses-T1\",\n",
    "    \"./Connectomes/ses-T2\",\n",
    "    \"./Connectomes/ses-T3\",\n",
    "    \"./Connectomes/ses-T4\"\n",
    "]\n",
    "\n",
    "output_base_directory = \"./data/Reduced_Connectomes\"\n",
    "\n",
    "for connectome_directory in connectome_directories:\n",
    "    session_name = connectome_directory.split('/')[-1] \n",
    "    output_directory = f\"{output_base_directory}/{session_name}\"\n",
    "    \n",
    "    process_connectomes_in_directory(connectome_directory, connectomes_mapping, output_directory)\n",
    "\n",
    "    print(f\"{connectome_directory} done -> {output_directory}\")\n"
   ]
  },
  {
   "cell_type": "code",
   "execution_count": null,
   "id": "b0e8e2cb",
   "metadata": {},
   "outputs": [],
   "source": []
  }
 ],
 "metadata": {
  "kernelspec": {
   "display_name": "ml",
   "language": "python",
   "name": "python3"
  },
  "language_info": {
   "codemirror_mode": {
    "name": "ipython",
    "version": 3
   },
   "file_extension": ".py",
   "mimetype": "text/x-python",
   "name": "python",
   "nbconvert_exporter": "python",
   "pygments_lexer": "ipython3",
   "version": "3.11.10"
  }
 },
 "nbformat": 4,
 "nbformat_minor": 5
}
